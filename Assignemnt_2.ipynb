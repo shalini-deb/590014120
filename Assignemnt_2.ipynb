{
 "cells": [
  {
   "cell_type": "markdown",
   "metadata": {},
   "source": [
    "TASK 1: BASIC FUNCTION IMPLEMENTATION\n",
    "Write a function greet that takes two arguments: name (a string) and greeting (a string with a default value of \"Hello\"). The function should return a greeting message."
   ]
  },
   "cell_type": "code",
   "execution_count": 4,
   "metadata": {},
   "outputs": [
    {
     "name": "stdout",
     "output_type": "stream",
     "text": [
      "Hello Shalini\n",
      "Good morning Kumkum\n"
     ]
    }
   ],
   "source": [
    "#creating a function as greet\n",
    "def greet(name,greeting = \"Hello\"): #variable greeting have a default value \"Hello\"\n",
    "    print(f\"{greeting} {name}\") #using string formatting\n",
    "    \n",
    "greet(\"Shalini\")\n",
    "greet(\"Kumkum\",\"Good morning\")"
   ]
  },
  {
   "cell_type": "markdown",
   "metadata": {},
   "source": [
    "TASK 2: NAMED ARGUEMENT\n",
    "Create a function create_profile that takes arguments for name, age, and city as named arguments. The function should return a string like \"Name: Alice, Age: 25, City: New York\". Ensure that the age argument has a default value of 18."
   ]
  },
  {
   "cell_type": "code",
   "execution_count": 6,
   "metadata": {},
   "outputs": [
    {
     "name": "stdout",
     "output_type": "stream",
     "text": [
      "Name: Shalini, City : Kolkata, Age: 18\n",
      "Name: Sonali, City : Pune, Age: 26\n"
     ]
    }
   ],
   "source": [
    "#creating a function name as create_profile\n",
    "def create_profile(name , city, age = 18): #age variable stores a default value 18\n",
    "    print(f\"Name: {name}, City : {city}, Age: {age}\" )\n",
    "    \n",
    "create_profile(name =\"Shalini\", city = \"Kolkata\")\n",
    "create_profile(name=\"Sonali\", age=26, city=\"Pune\")"
   ]
  },
  {
   "cell_type": "markdown",
   "metadata": {},
   "source": [
    "ASK 3: Using args and kwargs\n",
    "Write a function sum_numbers that takes any number of positional arguments (args) and keyword arguments (*kwargs). It should:\n",
    "Return the sum of all *args if they are numbers.\n",
    "Return a dictionary of all keyword arguments."
   ]
  },
  {
   "cell_type": "code",
   "execution_count": 8,
   "metadata": {},
   "outputs": [
    {
     "name": "stdout",
     "output_type": "stream",
     "text": [
      "8\n",
      "(6, {'x': 4, 'y': 5})\n"
     ]
    }
   ],
   "source": [
    "#creating a function \"sum_numbers\"\n",
    "def sum_numbers(*args, **kwargs):\n",
    "    # Filter and sum positional arguments that are numbers\n",
    "    totalSum = sum(arg for arg in args if isinstance(arg, (int, float)))\n",
    "    \n",
    "    # Return only the sum if no keyword arguments are passed\n",
    "    if not kwargs:\n",
    "        return totalSum\n",
    "    \n",
    "    # Return the sum and the dictionary of keyword arguments if any\n",
    "    return totalSum, kwargs\n",
    "\n",
    "print(sum_numbers(1, 2, 5))             \n",
    "print(sum_numbers(1, 5, x=4, y=5))"
   ]
  },
  {
   "cell_type": "markdown",
   "metadata": {},
   "source": [
    "TASK 4: LAMBDAS AND MAP:\n",
    "Write a function that uses map and a lambda to return a list where each element is squared."
   ]
  },
  {
   "cell_type": "code",
   "execution_count": 9,
   "metadata": {},
   "outputs": [
    {
     "data": {
      "text/plain": [
       "[49, 361, 16, 400, 784, 900]"
      ]
     },
     "execution_count": 9,
     "metadata": {},
     "output_type": "execute_result"
    }
   ],
   "source": [
    "def square_list(numbers):\n",
    "    squares= map(lambda x: x**2, numbers) #squaring the numbers present in the list\n",
    "    return list(squares) #returning the squares of the number where the function was called\n",
    "\n",
    "square_list([7,19,4,20,28,30])"
   ]
  },
  {
   "cell_type": "markdown",
   "metadata": {},
   "source": [
    "TASK 5: FILTER AND LAMBDAS:\n",
    "Write a function that filters out all odd numbers from a list using filter and a lambda function."
   ]
  },
  {
   "cell_type": "code",
   "execution_count": 10,
   "metadata": {},
   "outputs": [
    {
     "data": {
      "text/plain": [
       "[2, 4]"
      ]
     },
     "execution_count": 10,
     "metadata": {},
     "output_type": "execute_result"
    }
   ],
   "source": [
    "#creating a function that takes list as an arguement\n",
    "def filter_odd_numbers(numbers):\n",
    "    odd_numbers = filter(lambda x: x%2 == 0, numbers) #checking whether the number in numbers are divisible by 2\n",
    "    return list(odd_numbers)\n",
    "\n",
    "filter_odd_numbers([1,2,3,4,5])"
   ]
  },
  {
   "cell_type": "markdown",
   "metadata": {},
   "source": [
    "TASK 6: BASIC LIST COMPREHENSION:\n",
    "Create a list comprehension that takes a list of numbers and returns a list of their squares."
   ]
  },
  {
   "cell_type": "code",
   "execution_count": 11,
   "metadata": {},
   "outputs": [
    {
     "name": "stdout",
     "output_type": "stream",
     "text": [
      "[0, 1, 4, 9, 16]\n"
     ]
    }
   ],
   "source": [
    "squares = [x**2 for x in range(5)]\n",
    "print(squares)"
   ]
  },
  {
   "cell_type": "markdown",
   "metadata": {},
   "source": [
    "TASK 7: LIST COMPREHENSION WITH CONDITION:\n",
    "Use a list comprehension to create a list of even numbers from 1 to 20."
   ]
  },
  {
   "cell_type": "code",
   "execution_count": 12,
   "metadata": {},
   "outputs": [
    {
     "name": "stdout",
     "output_type": "stream",
     "text": [
      "[2, 4, 6, 8, 10, 12, 14, 16, 18, 20]\n"
     ]
    }
   ],
   "source": [
    "evenNumbers = [x for x in range(1,21) if x%2 == 0]\n",
    "print(list(evenNumbers))"
   ]
  },
  {
   "cell_type": "markdown",
   "metadata": {},
   "source": [
    "TASK 8: USING OS AND TIME MODULES:\n",
    "Write a function file_operations that creates a directory named \"test_folder\" using os.makedirs(). Then, pause the execution for 3 seconds using time.sleep(), and finally, delete the directory using os.rmdir()."
   ]
  },
  {
   "cell_type": "code",
   "execution_count": null,
   "metadata": {},
   "outputs": [],
   "source": [
    "#importing time and os modules\n",
    "import os\n",
    "import time\n",
    "\n",
    "#creating non parametrized function, file_operations\n",
    "def file_operations():\n",
    "    \n",
    "    #creating a new directory\n",
    "    os.makedirs(\"test_folder\") #cretaed a directory named as test_folder\n",
    "    \n",
    "    time.sleep(3) #using sleep function from time module to stop the execution for 3 sec\n",
    "    \n",
    "    #removing a directory\n",
    "    os.rmdir(\"test_folder\")\n",
    "    \n",
    "file_operations()"
   ]
  },
  {
   "cell_type": "markdown",
   "metadata": {},
   "source": [
    "TASK 9: IMPORTING SPECIFIC FUNCTIONS:\n",
    "Write a Python script that imports only sleep from the time module and renames it to pause. Use it to pause execution for 2 seconds and print \"Paused execution...\".\n"
   ]
  },
  {
   "cell_type": "code",
   "execution_count": 13,
   "metadata": {},
   "outputs": [
    {
     "name": "stdout",
     "output_type": "stream",
     "text": [
      "Paused execution...\n"
     ]
    }
   ],
   "source": [
    "#importing the function, sleep from time module and rename as pause\n",
    "from time import sleep as pause \n",
    "pause(2) #pauses the execution for 2 sec\n",
    "print(\"Paused execution...\")"
   ]
  },
  {
   "cell_type": "markdown",
   "metadata": {},
   "source": [
    "TASK 10: RECURSIVE FUNCTION WITH *ARGS and KWARGS (Flattening a List):\n",
    "Write a recursive function flatten_list that can flatten a nested list of any depth using *args and **kwargs."
   ]
  },
  {
   "cell_type": "code",
   "execution_count": 16,
   "metadata": {},
   "outputs": [
    {
     "name": "stdout",
     "output_type": "stream",
     "text": [
      "[1, 2, 3, 4, 5, 6]\n",
      "[1, 2, 3, 4, 5]\n"
     ]
    }
   ],
   "source": [
    "#creating a function that converts nested list into simple list\n",
    "def flatten_list(*args, **kwargs):\n",
    "    #uses *args to handle any number of arguments\n",
    "    flatten = []#creating an empty list\n",
    "    \n",
    "    for item in args:\n",
    "        if isinstance(item, list): #cheking whether each element is a list or a simple number\n",
    "            flatten.extend(flatten_list(*item, *kwargs))\n",
    "            \n",
    "        else:\n",
    "            flatten.append(item) #directly adding the element in the list if its not a list\n",
    "            \n",
    "    return flatten\n",
    "\n",
    "print(flatten_list([1, [2, 3], [[4, 5], 6]]))\n",
    "print(flatten_list([[1, 2], [3, [4, [5]]]]))\n"
   ]
  }
 ],
 "metadata": {
  "kernelspec": {
   "display_name": "Python 3",
   "language": "python",
   "name": "python3"
  },
  "language_info": {
   "codemirror_mode": {
    "name": "ipython",
    "version": 3
   },
   "file_extension": ".py",
   "mimetype": "text/x-python",
   "name": "python",
   "nbconvert_exporter": "python",
   "pygments_lexer": "ipython3",
   "version": "3.12.4"
  }
 },
 "nbformat": 4,
 "nbformat_minor": 2
}
