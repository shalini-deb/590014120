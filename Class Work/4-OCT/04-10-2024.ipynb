{
 "cells": [
  {
   "cell_type": "markdown",
   "metadata": {},
   "source": [
    "Question.1: Write a function that takes one input perameter and evaluates an expression a=n*10,for all values between 0 to n?"
   ]
  },
  {
   "cell_type": "code",
   "execution_count": 8,
   "metadata": {},
   "outputs": [],
   "source": [
    "import time\n",
    "n=10000\n",
    "def evaluate_expression(n):\n",
    "    for i in range(n+1):\n",
    "        a = i * 10\n",
    "        #extimate excution time of this function for n\n",
    "        start_time = time.time()*1000000\n",
    "        print(start_time)\n",
    "        evaluate_expression(n)\n",
    "        end_time=time.time()\n",
    "        print(end_time)*1000000\n",
    "        print(f\"for n={n}\\nExecution time is{end_time - start_time}micro seconds\")\n"
   ]
  },
  {
   "cell_type": "code",
   "execution_count": 9,
   "metadata": {},
   "outputs": [
    {
     "ename": "SyntaxError",
     "evalue": "invalid syntax (1722392339.py, line 21)",
     "output_type": "error",
     "traceback": [
      "\u001b[1;36m  Cell \u001b[1;32mIn[9], line 21\u001b[1;36m\u001b[0m\n\u001b[1;33m    @wrapperdef random()\u001b[0m\n\u001b[1;37m                ^\u001b[0m\n\u001b[1;31mSyntaxError\u001b[0m\u001b[1;31m:\u001b[0m invalid syntax\n"
     ]
    }
   ],
   "source": [
    "#waf that takes one input perameter(n)and evaluates an expressiona=n*10,for all values between 0 to n?\n",
    "import time\n",
    "ns=[12312312,23423423,24234234,234534]\n",
    "n=10000\n",
    "def evaluate_expression(n):\n",
    "    for i in range(n+1):\n",
    "        a = i * 10\n",
    "        #extimate excution time of this function for n\n",
    "        def wrapper(func,*args,**kwargs):\n",
    "            def wrapped(*args,**kwargs):\n",
    "                start_time = time.time()*1000000\n",
    "                func(*args,**kwargs)\n",
    "                end_time = time.time()*1000000\n",
    "                print(f\"for n={n}\\nExecution time is{end_time - start_time}micro seconds\")\n",
    "                return wrapped\n",
    "            #main function\n",
    "            @wrapped #decorator\n",
    "            def evaluate_expression(n):\n",
    "                for i in range(n+1):\n",
    "                    a = i * 10\n",
    "                @wrapperdef random()\n",
    "                print(\"hello\")\n",
    "                random()\n",
    "                "
   ]
  },
  {
   "cell_type": "code",
   "execution_count": null,
   "metadata": {},
   "outputs": [],
   "source": []
  }
 ],
 "metadata": {
  "kernelspec": {
   "display_name": "Python 3",
   "language": "python",
   "name": "python3"
  },
  "language_info": {
   "codemirror_mode": {
    "name": "ipython",
    "version": 3
   },
   "file_extension": ".py",
   "mimetype": "text/x-python",
   "name": "python",
   "nbconvert_exporter": "python",
   "pygments_lexer": "ipython3",
   "version": "3.11.9"
  }
 },
 "nbformat": 4,
 "nbformat_minor": 2
}
