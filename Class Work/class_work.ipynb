{
 "cells": [
  {
   "cell_type": "code",
   "execution_count": 1,
   "id": "e7a402e4-3007-4401-a3c4-e580f0e6bbb5",
   "metadata": {},
   "outputs": [],
   "source": [
    "def calculate_stats(numbers):\n",
    "    \n",
    "   \n",
    "    sum_value = sum(numbers)\n",
    "    cumulative_sum = [sum(numbers[:i+1]) for i in range(len(numbers))]\n",
    "    average = sum_value / len(numbers)\n",
    "    min_value = min(numbers)\n",
    "    max_value = max(numbers)\n",
    "    print(f\"sum is ->{sum_value}\")\n",
    "    print(f\"cumulative is ->{cumulative_sum}\")\n",
    "    print(f\"average is ->{average}\")\n",
    "    print(f\"minimum is ->{min_value}\")\n",
    "    print(f\"maximum is ->{max_value}\")\n"
   ]
  },
  {
   "cell_type": "code",
   "execution_count": 3,
   "id": "3796b7af-d481-420d-85a1-df8fb67a2e69",
   "metadata": {},
   "outputs": [
    {
     "name": "stdin",
     "output_type": "stream",
     "text": [
      "Enter the number of elements you want in the list:  4\n",
      "Enter the 0 Element in the list:  5\n",
      "Enter the 1 Element in the list:  6\n",
      "Enter the 2 Element in the list:  7\n",
      "Enter the 3 Element in the list:  8\n"
     ]
    },
    {
     "name": "stdout",
     "output_type": "stream",
     "text": [
      "sum is ->26\n",
      "cumulative is ->[5, 11, 18, 26]\n",
      "average is ->6.5\n",
      "minimum is ->5\n",
      "maximum is ->8\n"
     ]
    }
   ],
   "source": [
    "def newlist():\n",
    "    length= int(input(\"Enter the number of elements you want in the list: \"))\n",
    "    list1=[]\n",
    "    for i in range(0, length):\n",
    "        number = int(input(f\"Enter the {i} Element in the list: \"))\n",
    "        list1.append(number)\n",
    "    calculate_stats(list1)\n",
    "\n",
    "newlist()"
   ]
  },
  {
   "cell_type": "code",
   "execution_count": null,
   "id": "180dec5f-c8b3-46c4-a6ec-e3a2fad3d331",
   "metadata": {},
   "outputs": [],
   "source": []
  }
 ],
 "metadata": {
  "kernelspec": {
   "display_name": "Python 3 (ipykernel)",
   "language": "python",
   "name": "python3"
  },
  "language_info": {
   "codemirror_mode": {
    "name": "ipython",
    "version": 3
   },
   "file_extension": ".py",
   "mimetype": "text/x-python",
   "name": "python",
   "nbconvert_exporter": "python",
   "pygments_lexer": "ipython3",
   "version": "3.12.4"
  }
 },
 "nbformat": 4,
 "nbformat_minor": 5
}
