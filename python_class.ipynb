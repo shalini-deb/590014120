{
 "cells": [
  {
   "cell_type": "code",
   "execution_count": 1,
   "id": "03a9d5a2-eb2b-4b8e-82a6-5bfb99a874ff",
   "metadata": {},
   "outputs": [
    {
     "name": "stdout",
     "output_type": "stream",
     "text": [
      "1\n",
      "1.1\n"
     ]
    }
   ],
   "source": [
    "a = 1\n",
    "print(a)\n",
    "b = 1.1\n",
    "print(b)\n"
   ]
  },
  {
   "cell_type": "code",
   "execution_count": 3,
   "id": "ca9bb32e-8d57-462a-8b55-b9e58f9c53df",
   "metadata": {},
   "outputs": [
    {
     "name": "stdout",
     "output_type": "stream",
     "text": [
      "4314243688\n"
     ]
    }
   ],
   "source": [
    "a=1\n",
    "b=1\n",
    "print(id(a))"
   ]
  },
  {
   "cell_type": "code",
   "execution_count": 5,
   "id": "97bde79c-6e42-4a5d-bc22-1c1d71b5bfb2",
   "metadata": {},
   "outputs": [
    {
     "name": "stdout",
     "output_type": "stream",
     "text": [
      "4314243688\n"
     ]
    }
   ],
   "source": [
    "c=1\n",
    "print(id(c))"
   ]
  },
  {
   "cell_type": "code",
   "execution_count": 7,
   "id": "1a51f520-8485-48b3-b5c9-2129070fc344",
   "metadata": {},
   "outputs": [
    {
     "ename": "SyntaxError",
     "evalue": "invalid syntax (540859819.py, line 8)",
     "output_type": "error",
     "traceback": [
      "\u001b[0;36m  Cell \u001b[0;32mIn[7], line 8\u001b[0;36m\u001b[0m\n\u001b[0;31m    WA function that gives sum, avg, min and max of all the input are given\u001b[0m\n\u001b[0m       ^\u001b[0m\n\u001b[0;31mSyntaxError\u001b[0m\u001b[0;31m:\u001b[0m invalid syntax\n"
     ]
    }
   ],
   "source": [
    "num = int(input(\"Enter a number: \"))\n",
    "\n",
    "print(\"Table of\", num, \":\")\n",
    "\n",
    "for i in range(1, 11):\n",
    "    print(f\"{num} x {i} = {num * i}\")\n",
    "\n",
    "WA function that gives sum, avg, min and max of all the input are given\n"
   ]
  },
  {
   "cell_type": "code",
   "execution_count": 9,
   "id": "eae201e4-69aa-4b76-8a2c-7c6f93a2176a",
   "metadata": {},
   "outputs": [
    {
     "name": "stdout",
     "output_type": "stream",
     "text": [
      "[[1 2 3]\n",
      " [2 4 6]\n",
      " [7 8 9]]\n",
      "[[ 5 10 15]\n",
      " [10 20 30]\n",
      " [35 40 45]]\n"
     ]
    }
   ],
   "source": [
    "/#a user has a 3x3 and then in the copied matrix multiply each value by a constant and store the result in place after this print both the matrix.\n",
    "import numpy as np\n",
    "original_matrix = np.array([\n",
    "    [1,2,3],\n",
    "    [2,4,6],\n",
    "    [7,8,9]\n",
    "])\n",
    "\n",
    "a = 5\n",
    "modified_matrix = original_matrix * a\n",
    "print(original_matrix)\n",
    "print(modified_matrix)"
   ]
  },
  {
   "cell_type": "code",
   "execution_count": 11,
   "id": "7c0b433c-f713-46a2-9a87-acc8d0541cb9",
   "metadata": {},
   "outputs": [
    {
     "name": "stdout",
     "output_type": "stream",
     "text": [
      "1 2 3\n",
      "result is 6\n"
     ]
    }
   ],
   "source": [
    "def sum2(a,b,c):\n",
    "    print (a,b,c)\n",
    "    res = a + b + c\n",
    "    return res\n",
    "\n",
    "result = sum2(1,2,3)\n",
    "print(f\"result is {result}\")\n"
   ]
  },
  {
   "cell_type": "code",
   "execution_count": null,
   "id": "f895f61f-f3be-4ef9-a872-f139d6256e9d",
   "metadata": {},
   "outputs": [],
   "source": [
    "write a function that take one variable as inpout and return it sum , cumulative sum, average , min and maximum value. implement this function using for loop.  define function documentation using docstring and show its uses"
   ]
  },
  {
   "cell_type": "code",
   "execution_count": 28,
   "id": "d4223f51-bc50-4414-a191-5830fb0165a9",
   "metadata": {},
   "outputs": [],
   "source": [
    "def calculate_stats(numbers):\n",
    "    \n",
    "   \n",
    "    sum_value = sum(numbers)\n",
    "    cumulative_sum = [sum(numbers[:i+1]) for i in range(len(numbers))]\n",
    "    average = sum_value / len(numbers)\n",
    "    min_value = min(numbers)\n",
    "    max_value = max(numbers)\n",
    "    print(f\"sum is ->{sum_value}\")\n",
    "    print(f\"cumulative is ->{cumulative_sum}\")\n",
    "    print(f\"average is ->{average}\")\n",
    "    print(f\"minimum is ->{min_value}\")\n",
    "    print(f\"maximum is ->{max_value}\")\n"
   ]
  },
  {
   "cell_type": "code",
   "execution_count": 30,
   "id": "418e7425-c92c-4bc1-bd5c-23dfde3e04f0",
   "metadata": {},
   "outputs": [
    {
     "name": "stdin",
     "output_type": "stream",
     "text": [
      "Enter the number of elements you want in the list:  5\n",
      "Enter the 0 Element in the list:  5\n",
      "Enter the 1 Element in the list:  6\n",
      "Enter the 2 Element in the list:  7\n",
      "Enter the 3 Element in the list:  8\n",
      "Enter the 4 Element in the list:  8\n"
     ]
    },
    {
     "name": "stdout",
     "output_type": "stream",
     "text": [
      "sum is ->34\n",
      "cumulative is ->[5, 11, 18, 26, 34]\n",
      "average is ->6.8\n",
      "minimum is ->5\n",
      "maximum is ->8\n"
     ]
    }
   ],
   "source": [
    "def newlist():\n",
    "    length= int(input(\"Enter the number of elements you want in the list: \"))\n",
    "    list1=[]\n",
    "    for i in range(0, length):\n",
    "        number = int(input(f\"Enter the {i} Element in the list: \"))\n",
    "        list1.append(number)\n",
    "    calculate_stats(list1)\n",
    "\n",
    "newlist()"
   ]
  },
  {
   "cell_type": "code",
   "execution_count": null,
   "id": "78637510-7d2c-443c-8c2f-2b874b9aa0a5",
   "metadata": {},
   "outputs": [],
   "source": []
  },
  {
   "cell_type": "code",
   "execution_count": null,
   "id": "c13b5f89-40d9-499b-a9be-f96ac5796a26",
   "metadata": {},
   "outputs": [],
   "source": []
  }
 ],
 "metadata": {
  "kernelspec": {
   "display_name": "Python 3 (ipykernel)",
   "language": "python",
   "name": "python3"
  },
  "language_info": {
   "codemirror_mode": {
    "name": "ipython",
    "version": 3
   },
   "file_extension": ".py",
   "mimetype": "text/x-python",
   "name": "python",
   "nbconvert_exporter": "python",
   "pygments_lexer": "ipython3",
   "version": "3.12.4"
  }
 },
 "nbformat": 4,
 "nbformat_minor": 5
}
